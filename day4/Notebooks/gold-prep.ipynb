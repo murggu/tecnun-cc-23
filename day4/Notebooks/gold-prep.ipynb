{
 "cells": [
  {
   "cell_type": "code",
   "execution_count": null,
   "metadata": {},
   "outputs": [],
   "source": [
    "# Provide the gold path in your Synapse linked Azure Data lake\n",
    "gold_path = 'abfss://xxxxxx@yyyyyyyy.dfs.core.windows.net/gold/'\n"
   ]
  },
  {
   "cell_type": "code",
   "execution_count": null,
   "metadata": {},
   "outputs": [],
   "source": [
    "#TODO Load the ny_taxy data created in previous notebook and stored as Delta lake table on default database\n",
    "\n",
    "\n"
   ]
  },
  {
   "cell_type": "code",
   "execution_count": 1,
   "metadata": {},
   "outputs": [],
   "source": [
    "#TODO Create the following aggregation: How many trips were made by each passenger count in 2019?\n",
    "\n",
    "#display results\n",
    "df_agg1.show()\n",
    "\n"
   ]
  },
  {
   "cell_type": "code",
   "execution_count": null,
   "metadata": {},
   "outputs": [],
   "source": [
    "#TODO Create the following aggregation: Tip percentage average per PaymentType (warning \"()\" character on the column name will make the table saving fail)\n",
    "\n",
    "\n",
    "#display results\n",
    "df_agg2.show()"
   ]
  },
  {
   "cell_type": "code",
   "execution_count": null,
   "metadata": {},
   "outputs": [],
   "source": [
    "#Export tables in Delta format to the Gold container\n",
    "\n",
    "#Table names\n",
    "table1_name='gold_aggregate_trips_by_passengerCount'\n",
    "table2_name='gold_aggregate_tipPercentage_by_paymentType'\n",
    "\n",
    "#TODO Save the tables in Delta format to the Gold container and default database"
   ]
  }
 ],
 "metadata": {
  "kernelspec": {
   "display_name": "Python 3 (ipykernel)",
   "language": "python",
   "name": "python3"
  },
  "language_info": {
   "codemirror_mode": {
    "name": "ipython",
    "version": 3
   },
   "file_extension": ".py",
   "mimetype": "text/x-python",
   "name": "python",
   "nbconvert_exporter": "python",
   "pygments_lexer": "ipython3",
   "version": "3.10.8"
  }
 },
 "nbformat": 4,
 "nbformat_minor": 2
}
