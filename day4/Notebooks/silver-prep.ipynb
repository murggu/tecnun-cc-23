{
 "cells": [
  {
   "cell_type": "code",
   "execution_count": null,
   "metadata": {},
   "outputs": [],
   "source": [
    "bronze_path = 'abfss://nytaxy@dlsunaihbd4.dfs.core.windows.net/bronze/'\n",
    "silver_path = ''"
   ]
  },
  {
   "cell_type": "code",
   "execution_count": null,
   "metadata": {},
   "outputs": [],
   "source": [
    "\n",
    "from pyspark.sql.types import *\n",
    "\n",
    "table_name = 'ny_taxis'\n",
    "\n",
    "df = spark.read.format(\"parquet\").load(bronze_path)\n",
    "\n",
    "df.write.mode(\"overwrite\").format(\"delta\").option(\"path\", silver_path + table_name).saveAsTable(\"silver_\" + table_name)\n",
    "\n",
    "# show 5 rows from the table, only showing the following columns: vendorID, passengerCount, tripDistance, totalAmount\n",
    "spark.sql(\"SELECT vendorID, passengerCount, tripDistance, totalAmount FROM silver_\" + table_name).show(5)\n",
    "\n",
    "df_ny_taxis_2019=spark.read.table(\"default.silver_ny_taxis_2019\")\n",
    "\n",
    "#Lets discard some data that wont be used, during our anlysis: remove following columns: doLocationId, puLocationId, storeAndFwdFlag and vendorID\n",
    "df_ny_taxis_2019 = df_ny_taxis_2019.drop(\"doLocationId\", \"puLocationId\", \"storeAndFwdFlag\", \"vendorID\")\n",
    "\n",
    "# show 5 rows from df_ny_taxis_2019, only showing the following columns: passengerCount, tripDistance, totalAmount\n",
    "df_ny_taxis_2019.select(\"passengerCount\", \"tripDistance\", \"totalAmount\").show(5)\n",
    "\n",
    "#Lets measure the Tip percentage, based on the columns totalAmount and tipAmount. Create a column called tipPercentage.\n",
    "df_ny_taxis_2019 = df_ny_taxis_2019.withColumn(\"tipPercentage\", (df_ny_taxis_2019.tipAmount / df_ny_taxis_2019.totalAmount) * 100)\n",
    "\n",
    "#Measure the price per mile for every service offered, based on the colums totalAmount and tripDistance. Create a column called \"pricePerMile\"\n",
    "df_ny_taxis_2019 = df_ny_taxis_2019.withColumn(\"pricePerMile\", df_ny_taxis_2019.totalAmount / df_ny_taxis_2019.tripDistance)\n",
    "\n",
    "#aggregation for most frequent payment type and average tip percentage (name column avgTipPercentage)\n",
    "df_agg2=df_ny_taxis_2019.groupBy(\"paymentType\").agg({\"tipPercentage\": \"avg\"})\n",
    "#rename column\n",
    "df_agg2=df_agg2.withColumnRenamed(\"avg(tipPercentage)\", \"avgTipPercentage\")\n",
    "\n",
    "\n",
    "\n",
    "\n",
    "\n",
    "\n",
    "\n",
    "\n"
   ]
  }
 ],
 "metadata": {
  "kernelspec": {
   "display_name": "Python 3 (ipykernel)",
   "language": "python",
   "name": "python3"
  },
  "language_info": {
   "codemirror_mode": {
    "name": "ipython",
    "version": 3
   },
   "file_extension": ".py",
   "mimetype": "text/x-python",
   "name": "python",
   "nbconvert_exporter": "python",
   "pygments_lexer": "ipython3",
   "version": "3.10.8"
  }
 },
 "nbformat": 4,
 "nbformat_minor": 2
}
