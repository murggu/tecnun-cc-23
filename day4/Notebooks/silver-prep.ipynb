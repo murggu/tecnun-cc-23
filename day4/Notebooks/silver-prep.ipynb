{
 "cells": [
  {
   "cell_type": "code",
   "execution_count": null,
   "metadata": {},
   "outputs": [],
   "source": [
    "# Provide the bronze and silver paths in your Synapse linked Azure Data lake\n",
    "bronze_path = 'abfss://xxxxxx@yyyyyyyy.dfs.core.windows.net/bronze/'\n",
    "silver_path = 'abfss://xxxxxx@yyyyyyyy.dfs.core.windows.net/silver/'"
   ]
  },
  {
   "cell_type": "code",
   "execution_count": null,
   "metadata": {},
   "outputs": [],
   "source": [
    "\n",
    "# Create a table called \"ny_taxis_2019\" and load the data from the bronze container \n",
    "from pyspark.sql.types import *\n",
    "\n",
    "table_name = 'ny_taxis_2019'\n",
    "\n",
    "# TODO read the data from the bronze container\n"
   ]
  },
  {
   "cell_type": "code",
   "execution_count": 1,
   "metadata": {},
   "outputs": [],
   "source": [
    "#CLEAN-UP and ENRICH DATA\n",
    "\n",
    "# TODO Discard some data that wont be used, during our anlysis: remove following columns: doLocationId, puLocationId, storeAndFwdFlag and vendorID\n",
    "\n",
    "\n",
    "# TODO Measure the Tip percentage, based on the columns totalAmount and tipAmount. Create a column called \"tipPercentage\"\n",
    "\n",
    "# TODO Measure the price per mile for every service offered, based on the colums totalAmount and tripDistance. Create a column called \"pricePerMile\""
   ]
  },
  {
   "cell_type": "code",
   "execution_count": null,
   "metadata": {},
   "outputs": [],
   "source": [
    "# TODO Convert the Data to delta format and save it to the silver container\n",
    "\n",
    "#Expected Result\n",
    "spark.sql(\"SELECT totalAmount, tripDistance, pricePerMile, tipPercentage  FROM silver_\" + table_name).show(5)"
   ]
  }
 ],
 "metadata": {
  "kernelspec": {
   "display_name": "Python 3 (ipykernel)",
   "language": "python",
   "name": "python3"
  },
  "language_info": {
   "codemirror_mode": {
    "name": "ipython",
    "version": 3
   },
   "file_extension": ".py",
   "mimetype": "text/x-python",
   "name": "python",
   "nbconvert_exporter": "python",
   "pygments_lexer": "ipython3",
   "version": "3.10.8"
  }
 },
 "nbformat": 4,
 "nbformat_minor": 2
}
