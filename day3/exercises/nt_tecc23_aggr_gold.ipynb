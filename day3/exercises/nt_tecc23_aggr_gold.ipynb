{
 "cells": [
  {
   "cell_type": "code",
   "execution_count": null,
   "metadata": {
    "application/vnd.databricks.v1+cell": {
     "cellMetadata": {
      "byteLimit": 2048000,
      "rowLimit": 10000
     },
     "inputWidgets": {},
     "nuid": "0d6dc6e4-9b1c-4d67-9d2f-03f7e0370215",
     "showTitle": false,
     "title": ""
    }
   },
   "outputs": [],
   "source": [
    "gold_path = '<>'"
   ]
  },
  {
   "cell_type": "markdown",
   "metadata": {
    "application/vnd.databricks.v1+cell": {
     "cellMetadata": {},
     "inputWidgets": {},
     "nuid": "62402582-9b4b-4e2c-a332-faee5e3ce0f4",
     "showTitle": false,
     "title": ""
    },
    "nteract": {
     "transient": {
      "deleting": false
     }
    }
   },
   "source": [
    "#### Approach #1 - sale_by_date_city"
   ]
  },
  {
   "cell_type": "code",
   "execution_count": null,
   "metadata": {
    "application/vnd.databricks.v1+cell": {
     "cellMetadata": {
      "byteLimit": 2048000,
      "rowLimit": 10000
     },
     "inputWidgets": {},
     "nuid": "889dd91e-8f10-4130-a6d2-72b2fc5653b9",
     "showTitle": false,
     "title": ""
    },
    "nteract": {
     "transient": {
      "deleting": false
     }
    }
   },
   "outputs": [],
   "source": [
    "df_fact_sale = spark.read.table(\"default.silver_fact_sale\") \n",
    "df_dimension_date = spark.read.table(\"default.silver_dimension_date\")\n",
    "df_dimension_city = spark.read.table(\"default.silver_dimension_city\")"
   ]
  },
  {
   "cell_type": "code",
   "execution_count": null,
   "metadata": {
    "advisor": {
     "adviceMetadata": "{\"artifactId\":\"8abbb9ad-73e2-4641-a1de-80f0141ef0b5\",\"activityId\":\"17ebdba0-d9f9-49a3-9ebd-f0e2396705ef\",\"applicationId\":\"application_1694783353806_0001\",\"jobGroupId\":\"4\",\"advices\":{\"warn\":1}}"
    },
    "application/vnd.databricks.v1+cell": {
     "cellMetadata": {
      "byteLimit": 2048000,
      "rowLimit": 10000
     },
     "inputWidgets": {},
     "nuid": "6b903f72-dd24-41ce-b188-10ef2d49695d",
     "showTitle": false,
     "title": ""
    },
    "collapsed": false,
    "nteract": {
     "transient": {
      "deleting": false
     }
    }
   },
   "outputs": [],
   "source": [
    "sale_by_date_city = df_fact_sale.alias(\"sale\") \\\n",
    ".join(df_dimension_date.alias(\"date\"), df_fact_sale.InvoiceDateKey == df_dimension_date.Date, \"inner\") \\\n",
    ".join(df_dimension_city.alias(\"city\"), df_fact_sale.CityKey == df_dimension_city.CityKey, \"inner\") \\\n",
    ".select(\"date.Date\", \"date.CalendarMonthLabel\", \"date.Day\", \"date.ShortMonth\", \"date.CalendarYear\", \"city.City\", \"city.StateProvince\", \"city.SalesTerritory\", \"sale.TotalExcludingTax\", \"sale.TaxAmount\", \"sale.TotalIncludingTax\", \"sale.Profit\")\\\n",
    ".groupBy(\"date.Date\", \"date.CalendarMonthLabel\", \"date.Day\", \"date.ShortMonth\", \"date.CalendarYear\", \"city.City\", \"city.StateProvince\", \"city.SalesTerritory\")\\\n",
    ".sum(\"sale.TotalExcludingTax\", \"sale.TaxAmount\", \"sale.TotalIncludingTax\", \"sale.Profit\")\\\n",
    ".withColumnRenamed(\"sum(TotalExcludingTax)\", \"SumOfTotalExcludingTax\")\\\n",
    ".withColumnRenamed(\"sum(TaxAmount)\", \"SumOfTaxAmount\")\\\n",
    ".withColumnRenamed(\"sum(TotalIncludingTax)\", \"SumOfTotalIncludingTax\")\\\n",
    ".withColumnRenamed(\"sum(Profit)\", \"SumOfProfit\")\\\n",
    ".orderBy(\"date.Date\", \"city.StateProvince\", \"city.City\")\n",
    "\n",
    "table_name = 'gold_aggregate_sale_by_date_city'\n",
    "sale_by_date_city.write.mode(\"overwrite\").format(\"delta\").option(\"path\", gold_path + table_name).saveAsTable(\"gold_\" + table_name)"
   ]
  },
  {
   "cell_type": "markdown",
   "metadata": {
    "application/vnd.databricks.v1+cell": {
     "cellMetadata": {},
     "inputWidgets": {},
     "nuid": "d25df690-3d70-4dd1-85ce-2148ff69ba3f",
     "showTitle": false,
     "title": ""
    },
    "nteract": {
     "transient": {
      "deleting": false
     }
    }
   },
   "source": [
    "#### Approach #2 - sale_by_date_employee"
   ]
  },
  {
   "cell_type": "code",
   "execution_count": null,
   "metadata": {
    "application/vnd.databricks.v1+cell": {
     "cellMetadata": {
      "byteLimit": 2048000,
      "implicitDf": true,
      "rowLimit": 10000
     },
     "inputWidgets": {},
     "nuid": "4767d5fb-e231-4331-b7f4-662f2f939161",
     "showTitle": false,
     "title": ""
    },
    "collapsed": false,
    "microsoft": {
     "language": "sparksql"
    },
    "nteract": {
     "transient": {
      "deleting": false
     }
    }
   },
   "outputs": [],
   "source": [
    "%sql\n",
    "CREATE OR REPLACE TEMPORARY VIEW sale_by_date_employee\n",
    "AS\n",
    "SELECT\n",
    "\tDD.Date, DD.CalendarMonthLabel\n",
    "    , DD.Day, DD.ShortMonth Month, CalendarYear Year\n",
    "\t,DE.PreferredName, DE.Employee\n",
    "\t,SUM(FS.TotalExcludingTax) SumOfTotalExcludingTax\n",
    "\t,SUM(FS.TaxAmount) SumOfTaxAmount\n",
    "\t,SUM(FS.TotalIncludingTax) SumOfTotalIncludingTax\n",
    "\t,SUM(Profit) SumOfProfit \n",
    "FROM default.silver_fact_sale FS\n",
    "INNER JOIN default.silver_dimension_date DD ON FS.InvoiceDateKey = DD.Date\n",
    "INNER JOIN default.silver_dimension_Employee DE ON FS.SalespersonKey = DE.EmployeeKey\n",
    "GROUP BY DD.Date, DD.CalendarMonthLabel, DD.Day, DD.ShortMonth, DD.CalendarYear, DE.PreferredName, DE.Employee\n",
    "ORDER BY DD.Date ASC, DE.PreferredName ASC, DE.Employee ASC"
   ]
  },
  {
   "cell_type": "code",
   "execution_count": null,
   "metadata": {
    "advisor": {
     "adviceMetadata": "{\"artifactId\":\"8abbb9ad-73e2-4641-a1de-80f0141ef0b5\",\"activityId\":\"17ebdba0-d9f9-49a3-9ebd-f0e2396705ef\",\"applicationId\":\"application_1694783353806_0001\",\"jobGroupId\":\"7\",\"advices\":{\"warn\":1}}"
    },
    "application/vnd.databricks.v1+cell": {
     "cellMetadata": {
      "byteLimit": 2048000,
      "rowLimit": 10000
     },
     "inputWidgets": {},
     "nuid": "e8833572-f00e-4fc0-8c12-34c632eca8e1",
     "showTitle": false,
     "title": ""
    },
    "nteract": {
     "transient": {
      "deleting": false
     }
    }
   },
   "outputs": [],
   "source": [
    "sale_by_date_employee = spark.sql(\"SELECT * FROM sale_by_date_employee\")\n",
    "\n",
    "table_name = 'gold_aggregate_sale_by_date_employee'\n",
    "sale_by_date_employee.write.mode(\"overwrite\").format(\"delta\").option(\"path\", gold_path + table_name).saveAsTable(\"gold_\" + table_name)"
   ]
  },
  {
   "cell_type": "code",
   "execution_count": null,
   "metadata": {
    "application/vnd.databricks.v1+cell": {
     "cellMetadata": {
      "byteLimit": 2048000,
      "rowLimit": 10000
     },
     "inputWidgets": {},
     "nuid": "048e0ee6-d1d9-4001-a892-ffd5628b24f5",
     "showTitle": false,
     "title": ""
    }
   },
   "outputs": [],
   "source": [
    "spark.catalog.listTables()"
   ]
  }
 ],
 "metadata": {
  "application/vnd.databricks.v1+notebook": {
   "dashboards": [],
   "language": "python",
   "notebookMetadata": {
    "mostRecentlyExecutedCommandWithImplicitDF": {
     "commandId": 4113800944277679,
     "dataframes": [
      "_sqldf"
     ]
    },
    "pythonIndentUnit": 4
   },
   "notebookName": "nt_tecc23_aggr_gold",
   "widgets": {}
  },
  "kernel_info": {
   "name": "synapse_pyspark"
  },
  "kernelspec": {
   "display_name": "Synapse PySpark",
   "name": "synapse_pyspark"
  },
  "language_info": {
   "name": "python"
  },
  "microsoft": {
   "host": {
    "synapse_widget": {
     "state": {},
     "token": "47798d2d-6fe8-40f9-99ed-2fda9f979041"
    }
   },
   "language": "python",
   "ms_spell_check": {
    "ms_spell_check_language": "en"
   }
  },
  "notebook_environment": {},
  "nteract": {
   "version": "nteract-front-end@1.0.0"
  },
  "save_output": true,
  "spark_compute": {
   "compute_id": "/trident/default",
   "session_options": {
    "conf": {},
    "enableDebugMode": false
   }
  },
  "synapse_widget": {
   "state": {},
   "version": "0.1"
  },
  "trident": {
   "lakehouse": {
    "default_lakehouse": "78536562-8841-44f9-b952-f6399353a576",
    "default_lakehouse_name": "lkdatavision23",
    "default_lakehouse_workspace_id": "466da124-c291-4723-93a2-bf7bfbb12659",
    "known_lakehouses": [
     {
      "id": "78536562-8841-44f9-b952-f6399353a576"
     }
    ]
   }
  },
  "widgets": {}
 },
 "nbformat": 4,
 "nbformat_minor": 0
}
